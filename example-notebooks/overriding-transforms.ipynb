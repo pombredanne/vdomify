{
  "cells": [
    {
      "cell_type": "code",
      "source": [
        "from vdomify import vdomify"
      ],
      "outputs": [],
      "execution_count": 1,
      "metadata": {
        "collapsed": false,
        "outputHidden": false,
        "inputHidden": false
      }
    },
    {
      "cell_type": "code",
      "source": [
        "vdomify(\"Hello\")"
      ],
      "outputs": [
        {
          "output_type": "execute_result",
          "execution_count": 2,
          "data": {
            "application/vdom.v1+json": {
              "tagName": "pre",
              "attributes": {},
              "children": "'Hello'"
            },
            "text/plain": [
              "<pre />"
            ]
          },
          "metadata": {}
        }
      ],
      "execution_count": 2,
      "metadata": {
        "collapsed": false,
        "outputHidden": false,
        "inputHidden": false
      }
    },
    {
      "cell_type": "code",
      "source": [
        "from vdom.helpers import pre\n",
        "\n",
        "def Code(data): # data is the payload from the mimebundle\n",
        "    return pre(data, style={\n",
        "        'color': '#111',\n",
        "        'backgroundColor': '#e7e7e7',\n",
        "        'padding': '10px',\n",
        "    })\n",
        "\nvdomify(\"Hello\", transforms={ 'text/plain': Code })"
      ],
      "outputs": [
        {
          "output_type": "execute_result",
          "execution_count": 24,
          "data": {
            "application/vdom.v1+json": {
              "tagName": "pre",
              "attributes": {
                "style": {
                  "color": "#111",
                  "backgroundColor": "#e7e7e7",
                  "padding": "10px"
                }
              },
              "children": "'Hello'"
            },
            "text/plain": [
              "<pre />"
            ]
          },
          "metadata": {}
        }
      ],
      "execution_count": 24,
      "metadata": {
        "collapsed": false,
        "outputHidden": false,
        "inputHidden": false
      }
    },
    {
      "cell_type": "code",
      "source": [
        "from ggplot import diamonds\n",
        "vdomify(diamonds.head(2), transforms={ 'text/plain': Code })"
      ],
      "outputs": [
        {
          "output_type": "execute_result",
          "execution_count": 25,
          "data": {
            "application/vdom.v1+json": {
              "tagName": "pre",
              "attributes": {
                "style": {
                  "color": "#111",
                  "backgroundColor": "#e7e7e7",
                  "padding": "10px"
                }
              },
              "children": "   carat      cut color clarity  depth  table  price     x     y     z\n0   0.23    Ideal     E     SI2   61.5   55.0    326  3.95  3.98  2.43\n1   0.21  Premium     E     SI1   59.8   61.0    326  3.89  3.84  2.31"
            },
            "text/plain": [
              "<pre />"
            ]
          },
          "metadata": {}
        }
      ],
      "execution_count": 25,
      "metadata": {
        "collapsed": false,
        "outputHidden": false,
        "inputHidden": false
      }
    },
    {
      "cell_type": "code",
      "source": [],
      "outputs": [],
      "execution_count": null,
      "metadata": {
        "collapsed": false,
        "outputHidden": false,
        "inputHidden": false
      }
    }
  ],
  "metadata": {
    "kernelspec": {
      "name": "python",
      "language": "python",
      "display_name": "Python 3"
    },
    "kernel_info": {
      "name": "python"
    },
    "language_info": {
      "name": "python",
      "version": "3.6.2",
      "mimetype": "text/x-python",
      "codemirror_mode": {
        "name": "ipython",
        "version": 3
      },
      "pygments_lexer": "ipython3",
      "nbconvert_exporter": "python",
      "file_extension": ".py"
    },
    "nteract": {
      "version": "0.3.1"
    }
  },
  "nbformat": 4,
  "nbformat_minor": 4
}