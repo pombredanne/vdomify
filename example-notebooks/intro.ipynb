{
  "cells": [
    {
      "cell_type": "markdown",
      "source": [
        "# Introducing vdomify\n",
        "\nAt its core, `vdomify` is here to help you make quick layouts using `vdom` without having to create your own components (though I think it's super 🆒 if you do)."
      ],
      "metadata": {}
    },
    {
      "cell_type": "code",
      "source": [
        "from vdomify import vdomify"
      ],
      "outputs": [],
      "execution_count": 3,
      "metadata": {
        "collapsed": false,
        "outputHidden": false,
        "inputHidden": false
      }
    },
    {
      "cell_type": "code",
      "source": [
        "vdomify([1,2,3])"
      ],
      "outputs": [
        {
          "output_type": "execute_result",
          "execution_count": 4,
          "data": {
            "application/vdom.v1+json": {
              "tagName": "pre",
              "attributes": {},
              "children": "[1, 2, 3]"
            },
            "text/plain": [
              "<pre />"
            ]
          },
          "metadata": {}
        }
      ],
      "execution_count": 4,
      "metadata": {
        "collapsed": false,
        "outputHidden": false,
        "inputHidden": false
      }
    },
    {
      "cell_type": "code",
      "source": [
        "vdomify({\"test\": 'things out'})"
      ],
      "outputs": [
        {
          "output_type": "execute_result",
          "execution_count": 5,
          "data": {
            "application/vdom.v1+json": {
              "tagName": "pre",
              "attributes": {},
              "children": "{'test': 'things out'}"
            },
            "text/plain": [
              "<pre />"
            ]
          },
          "metadata": {}
        }
      ],
      "execution_count": 5,
      "metadata": {
        "collapsed": false,
        "outputHidden": false,
        "inputHidden": false
      }
    },
    {
      "cell_type": "code",
      "source": [
        "from vdom import div"
      ],
      "outputs": [],
      "execution_count": 6,
      "metadata": {
        "collapsed": false,
        "outputHidden": false,
        "inputHidden": false
      }
    },
    {
      "cell_type": "code",
      "source": [
        "div(\n",
        "    vdomify([1,2,3]),\n",
        "    style={\n",
        "        'backgroundColor': 'antiquewhite',\n",
        "        'padding': '10px'\n",
        "    }\n",
        ")"
      ],
      "outputs": [
        {
          "output_type": "execute_result",
          "execution_count": 7,
          "data": {
            "application/vdom.v1+json": {
              "tagName": "div",
              "attributes": {
                "style": {
                  "backgroundColor": "antiquewhite",
                  "padding": "10px"
                }
              },
              "children": {
                "tagName": "pre",
                "attributes": {},
                "children": "[1, 2, 3]"
              }
            },
            "text/plain": [
              "<div />"
            ]
          },
          "metadata": {}
        }
      ],
      "execution_count": 7,
      "metadata": {
        "collapsed": false,
        "outputHidden": false,
        "inputHidden": false
      }
    },
    {
      "cell_type": "code",
      "source": [
        "from ggplot import diamonds"
      ],
      "outputs": [],
      "execution_count": 22,
      "metadata": {
        "collapsed": false,
        "outputHidden": false,
        "inputHidden": false
      }
    },
    {
      "cell_type": "code",
      "source": [
        "diamonds.head(2)"
      ],
      "outputs": [
        {
          "output_type": "execute_result",
          "execution_count": 23,
          "data": {
            "text/plain": [
              "   carat      cut color clarity  depth  table  price     x     y     z\n",
              "0   0.23    Ideal     E     SI2   61.5   55.0    326  3.95  3.98  2.43\n",
              "1   0.21  Premium     E     SI1   59.8   61.0    326  3.89  3.84  2.31"
            ],
            "text/html": [
              "<div>\n",
              "<style>\n",
              "    .dataframe thead tr:only-child th {\n",
              "        text-align: right;\n",
              "    }\n",
              "\n",
              "    .dataframe thead th {\n",
              "        text-align: left;\n",
              "    }\n",
              "\n",
              "    .dataframe tbody tr th {\n",
              "        vertical-align: top;\n",
              "    }\n",
              "</style>\n",
              "<table border=\"1\" class=\"dataframe\">\n",
              "  <thead>\n",
              "    <tr style=\"text-align: right;\">\n",
              "      <th></th>\n",
              "      <th>carat</th>\n",
              "      <th>cut</th>\n",
              "      <th>color</th>\n",
              "      <th>clarity</th>\n",
              "      <th>depth</th>\n",
              "      <th>table</th>\n",
              "      <th>price</th>\n",
              "      <th>x</th>\n",
              "      <th>y</th>\n",
              "      <th>z</th>\n",
              "    </tr>\n",
              "  </thead>\n",
              "  <tbody>\n",
              "    <tr>\n",
              "      <th>0</th>\n",
              "      <td>0.23</td>\n",
              "      <td>Ideal</td>\n",
              "      <td>E</td>\n",
              "      <td>SI2</td>\n",
              "      <td>61.5</td>\n",
              "      <td>55.0</td>\n",
              "      <td>326</td>\n",
              "      <td>3.95</td>\n",
              "      <td>3.98</td>\n",
              "      <td>2.43</td>\n",
              "    </tr>\n",
              "    <tr>\n",
              "      <th>1</th>\n",
              "      <td>0.21</td>\n",
              "      <td>Premium</td>\n",
              "      <td>E</td>\n",
              "      <td>SI1</td>\n",
              "      <td>59.8</td>\n",
              "      <td>61.0</td>\n",
              "      <td>326</td>\n",
              "      <td>3.89</td>\n",
              "      <td>3.84</td>\n",
              "      <td>2.31</td>\n",
              "    </tr>\n",
              "  </tbody>\n",
              "</table>\n",
              "</div>"
            ]
          },
          "metadata": {}
        }
      ],
      "execution_count": 23,
      "metadata": {
        "collapsed": false,
        "outputHidden": false,
        "inputHidden": false
      }
    },
    {
      "cell_type": "code",
      "source": [
        "vdomify(diamonds.head(2))"
      ],
      "outputs": [
        {
          "output_type": "execute_result",
          "execution_count": 24,
          "data": {
            "application/vdom.v1+json": {
              "tagName": "div",
              "attributes": {
                "children": [
                  {
                    "tagName": "style",
                    "children": [
                      ".dataframe thead tr:only-child th {\n        text-align: right;\n    }\n\n    .dataframe thead th {\n        text-align: left;\n    }\n\n    .dataframe tbody tr th {\n        vertical-align: top;\n    }"
                    ],
                    "attributes": {}
                  },
                  {
                    "tagName": "table",
                    "children": [
                      {
                        "tagName": "thead",
                        "children": [
                          {
                            "tagName": "tr",
                            "children": [
                              {
                                "tagName": "th",
                                "children": null,
                                "attributes": {}
                              },
                              {
                                "tagName": "th",
                                "children": [
                                  "carat"
                                ],
                                "attributes": {}
                              },
                              {
                                "tagName": "th",
                                "children": [
                                  "cut"
                                ],
                                "attributes": {}
                              },
                              {
                                "tagName": "th",
                                "children": [
                                  "color"
                                ],
                                "attributes": {}
                              },
                              {
                                "tagName": "th",
                                "children": [
                                  "clarity"
                                ],
                                "attributes": {}
                              },
                              {
                                "tagName": "th",
                                "children": [
                                  "depth"
                                ],
                                "attributes": {}
                              },
                              {
                                "tagName": "th",
                                "children": [
                                  "table"
                                ],
                                "attributes": {}
                              },
                              {
                                "tagName": "th",
                                "children": [
                                  "price"
                                ],
                                "attributes": {}
                              },
                              {
                                "tagName": "th",
                                "children": [
                                  "x"
                                ],
                                "attributes": {}
                              },
                              {
                                "tagName": "th",
                                "children": [
                                  "y"
                                ],
                                "attributes": {}
                              },
                              {
                                "tagName": "th",
                                "children": [
                                  "z"
                                ],
                                "attributes": {}
                              }
                            ],
                            "attributes": {
                              "style": {
                                "textAlign": " right"
                              }
                            }
                          }
                        ],
                        "attributes": {}
                      },
                      {
                        "tagName": "tbody",
                        "children": [
                          {
                            "tagName": "tr",
                            "children": [
                              {
                                "tagName": "th",
                                "children": [
                                  "0"
                                ],
                                "attributes": {}
                              },
                              {
                                "tagName": "td",
                                "children": [
                                  "0.23"
                                ],
                                "attributes": {}
                              },
                              {
                                "tagName": "td",
                                "children": [
                                  "Ideal"
                                ],
                                "attributes": {}
                              },
                              {
                                "tagName": "td",
                                "children": [
                                  "E"
                                ],
                                "attributes": {}
                              },
                              {
                                "tagName": "td",
                                "children": [
                                  "SI2"
                                ],
                                "attributes": {}
                              },
                              {
                                "tagName": "td",
                                "children": [
                                  "61.5"
                                ],
                                "attributes": {}
                              },
                              {
                                "tagName": "td",
                                "children": [
                                  "55.0"
                                ],
                                "attributes": {}
                              },
                              {
                                "tagName": "td",
                                "children": [
                                  "326"
                                ],
                                "attributes": {}
                              },
                              {
                                "tagName": "td",
                                "children": [
                                  "3.95"
                                ],
                                "attributes": {}
                              },
                              {
                                "tagName": "td",
                                "children": [
                                  "3.98"
                                ],
                                "attributes": {}
                              },
                              {
                                "tagName": "td",
                                "children": [
                                  "2.43"
                                ],
                                "attributes": {}
                              }
                            ],
                            "attributes": {}
                          },
                          {
                            "tagName": "tr",
                            "children": [
                              {
                                "tagName": "th",
                                "children": [
                                  "1"
                                ],
                                "attributes": {}
                              },
                              {
                                "tagName": "td",
                                "children": [
                                  "0.21"
                                ],
                                "attributes": {}
                              },
                              {
                                "tagName": "td",
                                "children": [
                                  "Premium"
                                ],
                                "attributes": {}
                              },
                              {
                                "tagName": "td",
                                "children": [
                                  "E"
                                ],
                                "attributes": {}
                              },
                              {
                                "tagName": "td",
                                "children": [
                                  "SI1"
                                ],
                                "attributes": {}
                              },
                              {
                                "tagName": "td",
                                "children": [
                                  "59.8"
                                ],
                                "attributes": {}
                              },
                              {
                                "tagName": "td",
                                "children": [
                                  "61.0"
                                ],
                                "attributes": {}
                              },
                              {
                                "tagName": "td",
                                "children": [
                                  "326"
                                ],
                                "attributes": {}
                              },
                              {
                                "tagName": "td",
                                "children": [
                                  "3.89"
                                ],
                                "attributes": {}
                              },
                              {
                                "tagName": "td",
                                "children": [
                                  "3.84"
                                ],
                                "attributes": {}
                              },
                              {
                                "tagName": "td",
                                "children": [
                                  "2.31"
                                ],
                                "attributes": {}
                              }
                            ],
                            "attributes": {}
                          }
                        ],
                        "attributes": {}
                      }
                    ],
                    "attributes": {
                      "border": "1",
                      "class": "dataframe"
                    }
                  }
                ],
                "attributes": {}
              },
              "children": [
                {
                  "tagName": "style",
                  "children": [
                    ".dataframe thead tr:only-child th {\n        text-align: right;\n    }\n\n    .dataframe thead th {\n        text-align: left;\n    }\n\n    .dataframe tbody tr th {\n        vertical-align: top;\n    }"
                  ],
                  "attributes": {}
                },
                {
                  "tagName": "table",
                  "children": [
                    {
                      "tagName": "thead",
                      "children": [
                        {
                          "tagName": "tr",
                          "children": [
                            {
                              "tagName": "th",
                              "children": null,
                              "attributes": {}
                            },
                            {
                              "tagName": "th",
                              "children": [
                                "carat"
                              ],
                              "attributes": {}
                            },
                            {
                              "tagName": "th",
                              "children": [
                                "cut"
                              ],
                              "attributes": {}
                            },
                            {
                              "tagName": "th",
                              "children": [
                                "color"
                              ],
                              "attributes": {}
                            },
                            {
                              "tagName": "th",
                              "children": [
                                "clarity"
                              ],
                              "attributes": {}
                            },
                            {
                              "tagName": "th",
                              "children": [
                                "depth"
                              ],
                              "attributes": {}
                            },
                            {
                              "tagName": "th",
                              "children": [
                                "table"
                              ],
                              "attributes": {}
                            },
                            {
                              "tagName": "th",
                              "children": [
                                "price"
                              ],
                              "attributes": {}
                            },
                            {
                              "tagName": "th",
                              "children": [
                                "x"
                              ],
                              "attributes": {}
                            },
                            {
                              "tagName": "th",
                              "children": [
                                "y"
                              ],
                              "attributes": {}
                            },
                            {
                              "tagName": "th",
                              "children": [
                                "z"
                              ],
                              "attributes": {}
                            }
                          ],
                          "attributes": {
                            "style": {
                              "textAlign": " right"
                            }
                          }
                        }
                      ],
                      "attributes": {}
                    },
                    {
                      "tagName": "tbody",
                      "children": [
                        {
                          "tagName": "tr",
                          "children": [
                            {
                              "tagName": "th",
                              "children": [
                                "0"
                              ],
                              "attributes": {}
                            },
                            {
                              "tagName": "td",
                              "children": [
                                "0.23"
                              ],
                              "attributes": {}
                            },
                            {
                              "tagName": "td",
                              "children": [
                                "Ideal"
                              ],
                              "attributes": {}
                            },
                            {
                              "tagName": "td",
                              "children": [
                                "E"
                              ],
                              "attributes": {}
                            },
                            {
                              "tagName": "td",
                              "children": [
                                "SI2"
                              ],
                              "attributes": {}
                            },
                            {
                              "tagName": "td",
                              "children": [
                                "61.5"
                              ],
                              "attributes": {}
                            },
                            {
                              "tagName": "td",
                              "children": [
                                "55.0"
                              ],
                              "attributes": {}
                            },
                            {
                              "tagName": "td",
                              "children": [
                                "326"
                              ],
                              "attributes": {}
                            },
                            {
                              "tagName": "td",
                              "children": [
                                "3.95"
                              ],
                              "attributes": {}
                            },
                            {
                              "tagName": "td",
                              "children": [
                                "3.98"
                              ],
                              "attributes": {}
                            },
                            {
                              "tagName": "td",
                              "children": [
                                "2.43"
                              ],
                              "attributes": {}
                            }
                          ],
                          "attributes": {}
                        },
                        {
                          "tagName": "tr",
                          "children": [
                            {
                              "tagName": "th",
                              "children": [
                                "1"
                              ],
                              "attributes": {}
                            },
                            {
                              "tagName": "td",
                              "children": [
                                "0.21"
                              ],
                              "attributes": {}
                            },
                            {
                              "tagName": "td",
                              "children": [
                                "Premium"
                              ],
                              "attributes": {}
                            },
                            {
                              "tagName": "td",
                              "children": [
                                "E"
                              ],
                              "attributes": {}
                            },
                            {
                              "tagName": "td",
                              "children": [
                                "SI1"
                              ],
                              "attributes": {}
                            },
                            {
                              "tagName": "td",
                              "children": [
                                "59.8"
                              ],
                              "attributes": {}
                            },
                            {
                              "tagName": "td",
                              "children": [
                                "61.0"
                              ],
                              "attributes": {}
                            },
                            {
                              "tagName": "td",
                              "children": [
                                "326"
                              ],
                              "attributes": {}
                            },
                            {
                              "tagName": "td",
                              "children": [
                                "3.89"
                              ],
                              "attributes": {}
                            },
                            {
                              "tagName": "td",
                              "children": [
                                "3.84"
                              ],
                              "attributes": {}
                            },
                            {
                              "tagName": "td",
                              "children": [
                                "2.31"
                              ],
                              "attributes": {}
                            }
                          ],
                          "attributes": {}
                        }
                      ],
                      "attributes": {}
                    }
                  ],
                  "attributes": {
                    "border": "1",
                    "class": "dataframe"
                  }
                }
              ]
            },
            "text/plain": [
              "<div />"
            ]
          },
          "metadata": {}
        }
      ],
      "execution_count": 24,
      "metadata": {
        "collapsed": false,
        "outputHidden": false,
        "inputHidden": false
      }
    },
    {
      "cell_type": "code",
      "source": [],
      "outputs": [],
      "execution_count": null,
      "metadata": {
        "collapsed": false,
        "outputHidden": false,
        "inputHidden": false
      }
    }
  ],
  "metadata": {
    "kernelspec": {
      "name": "python3",
      "language": "python",
      "display_name": "Python 3"
    },
    "kernel_info": {
      "name": "python3"
    },
    "language_info": {
      "name": "python",
      "version": "3.6.2",
      "mimetype": "text/x-python",
      "codemirror_mode": {
        "name": "ipython",
        "version": 3
      },
      "pygments_lexer": "ipython3",
      "nbconvert_exporter": "python",
      "file_extension": ".py"
    },
    "nteract": {
      "version": "0.3.1"
    }
  },
  "nbformat": 4,
  "nbformat_minor": 4
}