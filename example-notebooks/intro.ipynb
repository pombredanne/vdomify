{
  "cells": [
    {
      "cell_type": "markdown",
      "source": [
        "# Introducing vdomify\n",
        "\nAt its core, `vdomify` is here to help you make quick layouts using `vdom` without having to create your own components (though I think it's super 🆒 if you do)."
      ],
      "metadata": {}
    },
    {
      "cell_type": "code",
      "source": [
        "from vdomify import vdomify"
      ],
      "outputs": [],
      "execution_count": 1,
      "metadata": {
        "collapsed": false,
        "outputHidden": false,
        "inputHidden": false
      }
    },
    {
      "cell_type": "code",
      "source": [
        "vdomify([1,2,3])"
      ],
      "outputs": [
        {
          "output_type": "execute_result",
          "execution_count": 2,
          "data": {
            "application/vdom.v1+json": {
              "tagName": "pre",
              "attributes": {},
              "children": "[1, 2, 3]"
            },
            "text/plain": [
              "<pre />"
            ]
          },
          "metadata": {}
        }
      ],
      "execution_count": 2,
      "metadata": {
        "collapsed": false,
        "outputHidden": false,
        "inputHidden": false
      }
    },
    {
      "cell_type": "code",
      "source": [
        "vdomify({\"test\": 'things out'})"
      ],
      "outputs": [
        {
          "output_type": "execute_result",
          "execution_count": 3,
          "data": {
            "application/vdom.v1+json": {
              "tagName": "pre",
              "attributes": {},
              "children": "{'test': 'things out'}"
            },
            "text/plain": [
              "<pre />"
            ]
          },
          "metadata": {}
        }
      ],
      "execution_count": 3,
      "metadata": {
        "collapsed": false,
        "outputHidden": false,
        "inputHidden": false
      }
    },
    {
      "cell_type": "code",
      "source": [
        "from vdom import div"
      ],
      "outputs": [],
      "execution_count": 4,
      "metadata": {
        "collapsed": false,
        "outputHidden": false,
        "inputHidden": false
      }
    },
    {
      "cell_type": "code",
      "source": [
        "div(\n",
        "    vdomify([1,2,3]),\n",
        "    style={\n",
        "        'backgroundColor': 'antiquewhite',\n",
        "        'padding': '10px'\n",
        "    }\n",
        ")"
      ],
      "outputs": [
        {
          "output_type": "execute_result",
          "execution_count": 5,
          "data": {
            "application/vdom.v1+json": {
              "tagName": "div",
              "attributes": {
                "style": {
                  "backgroundColor": "antiquewhite",
                  "padding": "10px"
                }
              },
              "children": {
                "tagName": "pre",
                "attributes": {},
                "children": "[1, 2, 3]"
              }
            },
            "text/plain": [
              "<div />"
            ]
          },
          "metadata": {}
        }
      ],
      "execution_count": 5,
      "metadata": {
        "collapsed": false,
        "outputHidden": false,
        "inputHidden": false
      }
    },
    {
      "cell_type": "code",
      "source": [
        "from ggplot import mpg"
      ],
      "outputs": [
        {
          "output_type": "stream",
          "name": "stderr",
          "text": [
            "/usr/local/lib/python3.6/site-packages/ggplot/utils.py:81: FutureWarning: pandas.tslib is deprecated and will be removed in a future version.\n",
            "You can access Timestamp as pandas.Timestamp\n",
            "  pd.tslib.Timestamp,\n",
            "/usr/local/lib/python3.6/site-packages/ggplot/stats/smoothers.py:4: FutureWarning: The pandas.lib module is deprecated and will be removed in a future version. These are private functions and can be accessed from pandas._libs.lib instead\n",
            "  from pandas.lib import Timestamp\n",
            "/usr/local/lib/python3.6/site-packages/statsmodels/compat/pandas.py:56: FutureWarning: The pandas.core.datetools module is deprecated and will be removed in a future version. Please use the pandas.tseries module instead.\n",
            "  from pandas.core import datetools\n"
          ]
        }
      ],
      "execution_count": 6,
      "metadata": {
        "collapsed": false,
        "outputHidden": false,
        "inputHidden": false
      }
    },
    {
      "cell_type": "code",
      "source": [
        "vdomify(mpg)"
      ],
      "outputs": [
        {
          "output_type": "execute_result",
          "execution_count": 9,
          "data": {
            "application/vdom.v1+json": {
              "tagName": "div",
              "attributes": {
                "dangerouslySetInnerHTML": {
                  "__html": "<div>\n<style>\n    .dataframe thead tr:only-child th {\n        text-align: right;\n    }\n\n    .dataframe thead th {\n        text-align: left;\n    }\n\n    .dataframe tbody tr th {\n        vertical-align: top;\n    }\n</style>\n<table border=\"1\" class=\"dataframe\">\n  <thead>\n    <tr style=\"text-align: right;\">\n      <th></th>\n      <th>manufacturer</th>\n      <th>model</th>\n      <th>displ</th>\n      <th>year</th>\n      <th>cyl</th>\n      <th>trans</th>\n      <th>drv</th>\n      <th>cty</th>\n      <th>hwy</th>\n      <th>fl</th>\n      <th>class</th>\n    </tr>\n  </thead>\n  <tbody>\n    <tr>\n      <th>0</th>\n      <td>audi</td>\n      <td>a4</td>\n      <td>1.8</td>\n      <td>1999</td>\n      <td>4</td>\n      <td>auto(l5)</td>\n      <td>f</td>\n      <td>18</td>\n      <td>29</td>\n      <td>p</td>\n      <td>compact</td>\n    </tr>\n    <tr>\n      <th>1</th>\n      <td>audi</td>\n      <td>a4</td>\n      <td>1.8</td>\n      <td>1999</td>\n      <td>4</td>\n      <td>manual(m5)</td>\n      <td>f</td>\n      <td>21</td>\n      <td>29</td>\n      <td>p</td>\n      <td>compact</td>\n    </tr>\n    <tr>\n      <th>2</th>\n      <td>audi</td>\n      <td>a4</td>\n      <td>2.0</td>\n      <td>2008</td>\n      <td>4</td>\n      <td>manual(m6)</td>\n      <td>f</td>\n      <td>20</td>\n      <td>31</td>\n      <td>p</td>\n      <td>compact</td>\n    </tr>\n    <tr>\n      <th>3</th>\n      <td>audi</td>\n      <td>a4</td>\n      <td>2.0</td>\n      <td>2008</td>\n      <td>4</td>\n      <td>auto(av)</td>\n      <td>f</td>\n      <td>21</td>\n      <td>30</td>\n      <td>p</td>\n      <td>compact</td>\n    </tr>\n    <tr>\n      <th>4</th>\n      <td>audi</td>\n      <td>a4</td>\n      <td>2.8</td>\n      <td>1999</td>\n      <td>6</td>\n      <td>auto(l5)</td>\n      <td>f</td>\n      <td>16</td>\n      <td>26</td>\n      <td>p</td>\n      <td>compact</td>\n    </tr>\n    <tr>\n      <th>5</th>\n      <td>audi</td>\n      <td>a4</td>\n      <td>2.8</td>\n      <td>1999</td>\n      <td>6</td>\n      <td>manual(m5)</td>\n      <td>f</td>\n      <td>18</td>\n      <td>26</td>\n      <td>p</td>\n      <td>compact</td>\n    </tr>\n    <tr>\n      <th>6</th>\n      <td>audi</td>\n      <td>a4</td>\n      <td>3.1</td>\n      <td>2008</td>\n      <td>6</td>\n      <td>auto(av)</td>\n      <td>f</td>\n      <td>18</td>\n      <td>27</td>\n      <td>p</td>\n      <td>compact</td>\n    </tr>\n    <tr>\n      <th>7</th>\n      <td>audi</td>\n      <td>a4 quattro</td>\n      <td>1.8</td>\n      <td>1999</td>\n      <td>4</td>\n      <td>manual(m5)</td>\n      <td>4</td>\n      <td>18</td>\n      <td>26</td>\n      <td>p</td>\n      <td>compact</td>\n    </tr>\n    <tr>\n      <th>8</th>\n      <td>audi</td>\n      <td>a4 quattro</td>\n      <td>1.8</td>\n      <td>1999</td>\n      <td>4</td>\n      <td>auto(l5)</td>\n      <td>4</td>\n      <td>16</td>\n      <td>25</td>\n      <td>p</td>\n      <td>compact</td>\n    </tr>\n    <tr>\n      <th>9</th>\n      <td>audi</td>\n      <td>a4 quattro</td>\n      <td>2.0</td>\n      <td>2008</td>\n      <td>4</td>\n      <td>manual(m6)</td>\n      <td>4</td>\n      <td>20</td>\n      <td>28</td>\n      <td>p</td>\n      <td>compact</td>\n    </tr>\n    <tr>\n      <th>10</th>\n      <td>audi</td>\n      <td>a4 quattro</td>\n      <td>2.0</td>\n      <td>2008</td>\n      <td>4</td>\n      <td>auto(s6)</td>\n      <td>4</td>\n      <td>19</td>\n      <td>27</td>\n      <td>p</td>\n      <td>compact</td>\n    </tr>\n    <tr>\n      <th>11</th>\n      <td>audi</td>\n      <td>a4 quattro</td>\n      <td>2.8</td>\n      <td>1999</td>\n      <td>6</td>\n      <td>auto(l5)</td>\n      <td>4</td>\n      <td>15</td>\n      <td>25</td>\n      <td>p</td>\n      <td>compact</td>\n    </tr>\n    <tr>\n      <th>12</th>\n      <td>audi</td>\n      <td>a4 quattro</td>\n      <td>2.8</td>\n      <td>1999</td>\n      <td>6</td>\n      <td>manual(m5)</td>\n      <td>4</td>\n      <td>17</td>\n      <td>25</td>\n      <td>p</td>\n      <td>compact</td>\n    </tr>\n    <tr>\n      <th>13</th>\n      <td>audi</td>\n      <td>a4 quattro</td>\n      <td>3.1</td>\n      <td>2008</td>\n      <td>6</td>\n      <td>auto(s6)</td>\n      <td>4</td>\n      <td>17</td>\n      <td>25</td>\n      <td>p</td>\n      <td>compact</td>\n    </tr>\n    <tr>\n      <th>14</th>\n      <td>audi</td>\n      <td>a4 quattro</td>\n      <td>3.1</td>\n      <td>2008</td>\n      <td>6</td>\n      <td>manual(m6)</td>\n      <td>4</td>\n      <td>15</td>\n      <td>25</td>\n      <td>p</td>\n      <td>compact</td>\n    </tr>\n    <tr>\n      <th>15</th>\n      <td>audi</td>\n      <td>a6 quattro</td>\n      <td>2.8</td>\n      <td>1999</td>\n      <td>6</td>\n      <td>auto(l5)</td>\n      <td>4</td>\n      <td>15</td>\n      <td>24</td>\n      <td>p</td>\n      <td>midsize</td>\n    </tr>\n    <tr>\n      <th>16</th>\n      <td>audi</td>\n      <td>a6 quattro</td>\n      <td>3.1</td>\n      <td>2008</td>\n      <td>6</td>\n      <td>auto(s6)</td>\n      <td>4</td>\n      <td>17</td>\n      <td>25</td>\n      <td>p</td>\n      <td>midsize</td>\n    </tr>\n    <tr>\n      <th>17</th>\n      <td>audi</td>\n      <td>a6 quattro</td>\n      <td>4.2</td>\n      <td>2008</td>\n      <td>8</td>\n      <td>auto(s6)</td>\n      <td>4</td>\n      <td>16</td>\n      <td>23</td>\n      <td>p</td>\n      <td>midsize</td>\n    </tr>\n    <tr>\n      <th>18</th>\n      <td>chevrolet</td>\n      <td>c1500 suburban 2wd</td>\n      <td>5.3</td>\n      <td>2008</td>\n      <td>8</td>\n      <td>auto(l4)</td>\n      <td>r</td>\n      <td>14</td>\n      <td>20</td>\n      <td>r</td>\n      <td>suv</td>\n    </tr>\n    <tr>\n      <th>19</th>\n      <td>chevrolet</td>\n      <td>c1500 suburban 2wd</td>\n      <td>5.3</td>\n      <td>2008</td>\n      <td>8</td>\n      <td>auto(l4)</td>\n      <td>r</td>\n      <td>11</td>\n      <td>15</td>\n      <td>e</td>\n      <td>suv</td>\n    </tr>\n    <tr>\n      <th>20</th>\n      <td>chevrolet</td>\n      <td>c1500 suburban 2wd</td>\n      <td>5.3</td>\n      <td>2008</td>\n      <td>8</td>\n      <td>auto(l4)</td>\n      <td>r</td>\n      <td>14</td>\n      <td>20</td>\n      <td>r</td>\n      <td>suv</td>\n    </tr>\n    <tr>\n      <th>21</th>\n      <td>chevrolet</td>\n      <td>c1500 suburban 2wd</td>\n      <td>5.7</td>\n      <td>1999</td>\n      <td>8</td>\n      <td>auto(l4)</td>\n      <td>r</td>\n      <td>13</td>\n      <td>17</td>\n      <td>r</td>\n      <td>suv</td>\n    </tr>\n    <tr>\n      <th>22</th>\n      <td>chevrolet</td>\n      <td>c1500 suburban 2wd</td>\n      <td>6.0</td>\n      <td>2008</td>\n      <td>8</td>\n      <td>auto(l4)</td>\n      <td>r</td>\n      <td>12</td>\n      <td>17</td>\n      <td>r</td>\n      <td>suv</td>\n    </tr>\n    <tr>\n      <th>23</th>\n      <td>chevrolet</td>\n      <td>corvette</td>\n      <td>5.7</td>\n      <td>1999</td>\n      <td>8</td>\n      <td>manual(m6)</td>\n      <td>r</td>\n      <td>16</td>\n      <td>26</td>\n      <td>p</td>\n      <td>2seater</td>\n    </tr>\n    <tr>\n      <th>24</th>\n      <td>chevrolet</td>\n      <td>corvette</td>\n      <td>5.7</td>\n      <td>1999</td>\n      <td>8</td>\n      <td>auto(l4)</td>\n      <td>r</td>\n      <td>15</td>\n      <td>23</td>\n      <td>p</td>\n      <td>2seater</td>\n    </tr>\n    <tr>\n      <th>25</th>\n      <td>chevrolet</td>\n      <td>corvette</td>\n      <td>6.2</td>\n      <td>2008</td>\n      <td>8</td>\n      <td>manual(m6)</td>\n      <td>r</td>\n      <td>16</td>\n      <td>26</td>\n      <td>p</td>\n      <td>2seater</td>\n    </tr>\n    <tr>\n      <th>26</th>\n      <td>chevrolet</td>\n      <td>corvette</td>\n      <td>6.2</td>\n      <td>2008</td>\n      <td>8</td>\n      <td>auto(s6)</td>\n      <td>r</td>\n      <td>15</td>\n      <td>25</td>\n      <td>p</td>\n      <td>2seater</td>\n    </tr>\n    <tr>\n      <th>27</th>\n      <td>chevrolet</td>\n      <td>corvette</td>\n      <td>7.0</td>\n      <td>2008</td>\n      <td>8</td>\n      <td>manual(m6)</td>\n      <td>r</td>\n      <td>15</td>\n      <td>24</td>\n      <td>p</td>\n      <td>2seater</td>\n    </tr>\n    <tr>\n      <th>28</th>\n      <td>chevrolet</td>\n      <td>k1500 tahoe 4wd</td>\n      <td>5.3</td>\n      <td>2008</td>\n      <td>8</td>\n      <td>auto(l4)</td>\n      <td>4</td>\n      <td>14</td>\n      <td>19</td>\n      <td>r</td>\n      <td>suv</td>\n    </tr>\n    <tr>\n      <th>29</th>\n      <td>chevrolet</td>\n      <td>k1500 tahoe 4wd</td>\n      <td>5.3</td>\n      <td>2008</td>\n      <td>8</td>\n      <td>auto(l4)</td>\n      <td>4</td>\n      <td>11</td>\n      <td>14</td>\n      <td>e</td>\n      <td>suv</td>\n    </tr>\n    <tr>\n      <th>...</th>\n      <td>...</td>\n      <td>...</td>\n      <td>...</td>\n      <td>...</td>\n      <td>...</td>\n      <td>...</td>\n      <td>...</td>\n      <td>...</td>\n      <td>...</td>\n      <td>...</td>\n      <td>...</td>\n    </tr>\n    <tr>\n      <th>204</th>\n      <td>toyota</td>\n      <td>toyota tacoma 4wd</td>\n      <td>3.4</td>\n      <td>1999</td>\n      <td>6</td>\n      <td>auto(l4)</td>\n      <td>4</td>\n      <td>15</td>\n      <td>19</td>\n      <td>r</td>\n      <td>pickup</td>\n    </tr>\n    <tr>\n      <th>205</th>\n      <td>toyota</td>\n      <td>toyota tacoma 4wd</td>\n      <td>4.0</td>\n      <td>2008</td>\n      <td>6</td>\n      <td>manual(m6)</td>\n      <td>4</td>\n      <td>15</td>\n      <td>18</td>\n      <td>r</td>\n      <td>pickup</td>\n    </tr>\n    <tr>\n      <th>206</th>\n      <td>toyota</td>\n      <td>toyota tacoma 4wd</td>\n      <td>4.0</td>\n      <td>2008</td>\n      <td>6</td>\n      <td>auto(l5)</td>\n      <td>4</td>\n      <td>16</td>\n      <td>20</td>\n      <td>r</td>\n      <td>pickup</td>\n    </tr>\n    <tr>\n      <th>207</th>\n      <td>volkswagen</td>\n      <td>gti</td>\n      <td>2.0</td>\n      <td>1999</td>\n      <td>4</td>\n      <td>manual(m5)</td>\n      <td>f</td>\n      <td>21</td>\n      <td>29</td>\n      <td>r</td>\n      <td>compact</td>\n    </tr>\n    <tr>\n      <th>208</th>\n      <td>volkswagen</td>\n      <td>gti</td>\n      <td>2.0</td>\n      <td>1999</td>\n      <td>4</td>\n      <td>auto(l4)</td>\n      <td>f</td>\n      <td>19</td>\n      <td>26</td>\n      <td>r</td>\n      <td>compact</td>\n    </tr>\n    <tr>\n      <th>209</th>\n      <td>volkswagen</td>\n      <td>gti</td>\n      <td>2.0</td>\n      <td>2008</td>\n      <td>4</td>\n      <td>manual(m6)</td>\n      <td>f</td>\n      <td>21</td>\n      <td>29</td>\n      <td>p</td>\n      <td>compact</td>\n    </tr>\n    <tr>\n      <th>210</th>\n      <td>volkswagen</td>\n      <td>gti</td>\n      <td>2.0</td>\n      <td>2008</td>\n      <td>4</td>\n      <td>auto(s6)</td>\n      <td>f</td>\n      <td>22</td>\n      <td>29</td>\n      <td>p</td>\n      <td>compact</td>\n    </tr>\n    <tr>\n      <th>211</th>\n      <td>volkswagen</td>\n      <td>gti</td>\n      <td>2.8</td>\n      <td>1999</td>\n      <td>6</td>\n      <td>manual(m5)</td>\n      <td>f</td>\n      <td>17</td>\n      <td>24</td>\n      <td>r</td>\n      <td>compact</td>\n    </tr>\n    <tr>\n      <th>212</th>\n      <td>volkswagen</td>\n      <td>jetta</td>\n      <td>1.9</td>\n      <td>1999</td>\n      <td>4</td>\n      <td>manual(m5)</td>\n      <td>f</td>\n      <td>33</td>\n      <td>44</td>\n      <td>d</td>\n      <td>compact</td>\n    </tr>\n    <tr>\n      <th>213</th>\n      <td>volkswagen</td>\n      <td>jetta</td>\n      <td>2.0</td>\n      <td>1999</td>\n      <td>4</td>\n      <td>manual(m5)</td>\n      <td>f</td>\n      <td>21</td>\n      <td>29</td>\n      <td>r</td>\n      <td>compact</td>\n    </tr>\n    <tr>\n      <th>214</th>\n      <td>volkswagen</td>\n      <td>jetta</td>\n      <td>2.0</td>\n      <td>1999</td>\n      <td>4</td>\n      <td>auto(l4)</td>\n      <td>f</td>\n      <td>19</td>\n      <td>26</td>\n      <td>r</td>\n      <td>compact</td>\n    </tr>\n    <tr>\n      <th>215</th>\n      <td>volkswagen</td>\n      <td>jetta</td>\n      <td>2.0</td>\n      <td>2008</td>\n      <td>4</td>\n      <td>auto(s6)</td>\n      <td>f</td>\n      <td>22</td>\n      <td>29</td>\n      <td>p</td>\n      <td>compact</td>\n    </tr>\n    <tr>\n      <th>216</th>\n      <td>volkswagen</td>\n      <td>jetta</td>\n      <td>2.0</td>\n      <td>2008</td>\n      <td>4</td>\n      <td>manual(m6)</td>\n      <td>f</td>\n      <td>21</td>\n      <td>29</td>\n      <td>p</td>\n      <td>compact</td>\n    </tr>\n    <tr>\n      <th>217</th>\n      <td>volkswagen</td>\n      <td>jetta</td>\n      <td>2.5</td>\n      <td>2008</td>\n      <td>5</td>\n      <td>auto(s6)</td>\n      <td>f</td>\n      <td>21</td>\n      <td>29</td>\n      <td>r</td>\n      <td>compact</td>\n    </tr>\n    <tr>\n      <th>218</th>\n      <td>volkswagen</td>\n      <td>jetta</td>\n      <td>2.5</td>\n      <td>2008</td>\n      <td>5</td>\n      <td>manual(m5)</td>\n      <td>f</td>\n      <td>21</td>\n      <td>29</td>\n      <td>r</td>\n      <td>compact</td>\n    </tr>\n    <tr>\n      <th>219</th>\n      <td>volkswagen</td>\n      <td>jetta</td>\n      <td>2.8</td>\n      <td>1999</td>\n      <td>6</td>\n      <td>auto(l4)</td>\n      <td>f</td>\n      <td>16</td>\n      <td>23</td>\n      <td>r</td>\n      <td>compact</td>\n    </tr>\n    <tr>\n      <th>220</th>\n      <td>volkswagen</td>\n      <td>jetta</td>\n      <td>2.8</td>\n      <td>1999</td>\n      <td>6</td>\n      <td>manual(m5)</td>\n      <td>f</td>\n      <td>17</td>\n      <td>24</td>\n      <td>r</td>\n      <td>compact</td>\n    </tr>\n    <tr>\n      <th>221</th>\n      <td>volkswagen</td>\n      <td>new beetle</td>\n      <td>1.9</td>\n      <td>1999</td>\n      <td>4</td>\n      <td>manual(m5)</td>\n      <td>f</td>\n      <td>35</td>\n      <td>44</td>\n      <td>d</td>\n      <td>subcompact</td>\n    </tr>\n    <tr>\n      <th>222</th>\n      <td>volkswagen</td>\n      <td>new beetle</td>\n      <td>1.9</td>\n      <td>1999</td>\n      <td>4</td>\n      <td>auto(l4)</td>\n      <td>f</td>\n      <td>29</td>\n      <td>41</td>\n      <td>d</td>\n      <td>subcompact</td>\n    </tr>\n    <tr>\n      <th>223</th>\n      <td>volkswagen</td>\n      <td>new beetle</td>\n      <td>2.0</td>\n      <td>1999</td>\n      <td>4</td>\n      <td>manual(m5)</td>\n      <td>f</td>\n      <td>21</td>\n      <td>29</td>\n      <td>r</td>\n      <td>subcompact</td>\n    </tr>\n    <tr>\n      <th>224</th>\n      <td>volkswagen</td>\n      <td>new beetle</td>\n      <td>2.0</td>\n      <td>1999</td>\n      <td>4</td>\n      <td>auto(l4)</td>\n      <td>f</td>\n      <td>19</td>\n      <td>26</td>\n      <td>r</td>\n      <td>subcompact</td>\n    </tr>\n    <tr>\n      <th>225</th>\n      <td>volkswagen</td>\n      <td>new beetle</td>\n      <td>2.5</td>\n      <td>2008</td>\n      <td>5</td>\n      <td>manual(m5)</td>\n      <td>f</td>\n      <td>20</td>\n      <td>28</td>\n      <td>r</td>\n      <td>subcompact</td>\n    </tr>\n    <tr>\n      <th>226</th>\n      <td>volkswagen</td>\n      <td>new beetle</td>\n      <td>2.5</td>\n      <td>2008</td>\n      <td>5</td>\n      <td>auto(s6)</td>\n      <td>f</td>\n      <td>20</td>\n      <td>29</td>\n      <td>r</td>\n      <td>subcompact</td>\n    </tr>\n    <tr>\n      <th>227</th>\n      <td>volkswagen</td>\n      <td>passat</td>\n      <td>1.8</td>\n      <td>1999</td>\n      <td>4</td>\n      <td>manual(m5)</td>\n      <td>f</td>\n      <td>21</td>\n      <td>29</td>\n      <td>p</td>\n      <td>midsize</td>\n    </tr>\n    <tr>\n      <th>228</th>\n      <td>volkswagen</td>\n      <td>passat</td>\n      <td>1.8</td>\n      <td>1999</td>\n      <td>4</td>\n      <td>auto(l5)</td>\n      <td>f</td>\n      <td>18</td>\n      <td>29</td>\n      <td>p</td>\n      <td>midsize</td>\n    </tr>\n    <tr>\n      <th>229</th>\n      <td>volkswagen</td>\n      <td>passat</td>\n      <td>2.0</td>\n      <td>2008</td>\n      <td>4</td>\n      <td>auto(s6)</td>\n      <td>f</td>\n      <td>19</td>\n      <td>28</td>\n      <td>p</td>\n      <td>midsize</td>\n    </tr>\n    <tr>\n      <th>230</th>\n      <td>volkswagen</td>\n      <td>passat</td>\n      <td>2.0</td>\n      <td>2008</td>\n      <td>4</td>\n      <td>manual(m6)</td>\n      <td>f</td>\n      <td>21</td>\n      <td>29</td>\n      <td>p</td>\n      <td>midsize</td>\n    </tr>\n    <tr>\n      <th>231</th>\n      <td>volkswagen</td>\n      <td>passat</td>\n      <td>2.8</td>\n      <td>1999</td>\n      <td>6</td>\n      <td>auto(l5)</td>\n      <td>f</td>\n      <td>16</td>\n      <td>26</td>\n      <td>p</td>\n      <td>midsize</td>\n    </tr>\n    <tr>\n      <th>232</th>\n      <td>volkswagen</td>\n      <td>passat</td>\n      <td>2.8</td>\n      <td>1999</td>\n      <td>6</td>\n      <td>manual(m5)</td>\n      <td>f</td>\n      <td>18</td>\n      <td>26</td>\n      <td>p</td>\n      <td>midsize</td>\n    </tr>\n    <tr>\n      <th>233</th>\n      <td>volkswagen</td>\n      <td>passat</td>\n      <td>3.6</td>\n      <td>2008</td>\n      <td>6</td>\n      <td>auto(s6)</td>\n      <td>f</td>\n      <td>17</td>\n      <td>26</td>\n      <td>p</td>\n      <td>midsize</td>\n    </tr>\n  </tbody>\n</table>\n<p>234 rows × 11 columns</p>\n</div>"
                }
              },
              "children": null
            },
            "text/plain": [
              "<div />"
            ]
          },
          "metadata": {}
        }
      ],
      "execution_count": 9,
      "metadata": {
        "collapsed": false,
        "outputHidden": false,
        "inputHidden": false
      }
    },
    {
      "cell_type": "code",
      "source": [
        "x.children"
      ],
      "outputs": [],
      "execution_count": 8,
      "metadata": {
        "collapsed": false,
        "outputHidden": false,
        "inputHidden": false
      }
    },
    {
      "cell_type": "code",
      "source": [],
      "outputs": [],
      "execution_count": null,
      "metadata": {
        "collapsed": false,
        "outputHidden": false,
        "inputHidden": false
      }
    }
  ],
  "metadata": {
    "kernelspec": {
      "name": "python3",
      "language": "python",
      "display_name": "Python 3"
    },
    "kernel_info": {
      "name": "python3"
    },
    "language_info": {
      "name": "python",
      "version": "3.6.2",
      "mimetype": "text/x-python",
      "codemirror_mode": {
        "name": "ipython",
        "version": 3
      },
      "pygments_lexer": "ipython3",
      "nbconvert_exporter": "python",
      "file_extension": ".py"
    },
    "nteract": {
      "version": "0.3.1"
    }
  },
  "nbformat": 4,
  "nbformat_minor": 4
}