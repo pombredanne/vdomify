{
  "cells": [
    {
      "cell_type": "markdown",
      "source": [
        "# Introducing vdomify\n",
        "\nAt its core, `vdomify` is here to help you make quick layouts using `vdom` without having to create your own components (though I think it's super 🆒 if you do)."
      ],
      "metadata": {}
    },
    {
      "cell_type": "code",
      "source": [
        "from vdomify import vdomify"
      ],
      "outputs": [],
      "execution_count": 1,
      "metadata": {
        "collapsed": false,
        "outputHidden": false,
        "inputHidden": false
      }
    },
    {
      "cell_type": "code",
      "source": [
        "vdomify([1,2,3])"
      ],
      "outputs": [
        {
          "output_type": "execute_result",
          "execution_count": 2,
          "data": {
            "application/vdom.v1+json": {
              "tagName": "pre",
              "attributes": {},
              "children": "[1, 2, 3]"
            },
            "text/plain": [
              "<pre />"
            ]
          },
          "metadata": {}
        }
      ],
      "execution_count": 2,
      "metadata": {
        "collapsed": false,
        "outputHidden": false,
        "inputHidden": false
      }
    },
    {
      "cell_type": "code",
      "source": [
        "vdomify({\"test\": 'things out'})"
      ],
      "outputs": [
        {
          "output_type": "execute_result",
          "execution_count": 3,
          "data": {
            "application/vdom.v1+json": {
              "tagName": "pre",
              "attributes": {},
              "children": "{'test': 'things out'}"
            },
            "text/plain": [
              "<pre />"
            ]
          },
          "metadata": {}
        }
      ],
      "execution_count": 3,
      "metadata": {
        "collapsed": false,
        "outputHidden": false,
        "inputHidden": false
      }
    },
    {
      "cell_type": "code",
      "source": [
        "from vdom import div"
      ],
      "outputs": [],
      "execution_count": 4,
      "metadata": {
        "collapsed": false,
        "outputHidden": false,
        "inputHidden": false
      }
    },
    {
      "cell_type": "code",
      "source": [
        "div(\n",
        "    vdomify([1,2,3]),\n",
        "    style={\n",
        "        'backgroundColor': 'antiquewhite',\n",
        "        'padding': '10px'\n",
        "    }\n",
        ")"
      ],
      "outputs": [
        {
          "output_type": "execute_result",
          "execution_count": 5,
          "data": {
            "application/vdom.v1+json": {
              "tagName": "div",
              "attributes": {
                "style": {
                  "backgroundColor": "antiquewhite",
                  "padding": "10px"
                }
              },
              "children": {
                "tagName": "pre",
                "attributes": {},
                "children": "[1, 2, 3]"
              }
            },
            "text/plain": [
              "<div />"
            ]
          },
          "metadata": {}
        }
      ],
      "execution_count": 5,
      "metadata": {
        "collapsed": false,
        "outputHidden": false,
        "inputHidden": false
      }
    },
    {
      "cell_type": "code",
      "source": [
        "from ggplot import mpg"
      ],
      "outputs": [
        {
          "output_type": "stream",
          "name": "stderr",
          "text": [
            "/usr/local/lib/python3.6/site-packages/ggplot/utils.py:81: FutureWarning: pandas.tslib is deprecated and will be removed in a future version.\n",
            "You can access Timestamp as pandas.Timestamp\n",
            "  pd.tslib.Timestamp,\n",
            "/usr/local/lib/python3.6/site-packages/ggplot/stats/smoothers.py:4: FutureWarning: The pandas.lib module is deprecated and will be removed in a future version. These are private functions and can be accessed from pandas._libs.lib instead\n",
            "  from pandas.lib import Timestamp\n",
            "/usr/local/lib/python3.6/site-packages/statsmodels/compat/pandas.py:56: FutureWarning: The pandas.core.datetools module is deprecated and will be removed in a future version. Please use the pandas.tseries module instead.\n",
            "  from pandas.core import datetools\n"
          ]
        }
      ],
      "execution_count": 6,
      "metadata": {
        "collapsed": false,
        "outputHidden": false,
        "inputHidden": false
      }
    },
    {
      "cell_type": "code",
      "source": [
        "vdomify(mpg)"
      ],
      "outputs": [
        {
          "output_type": "execute_result",
          "execution_count": 7,
          "data": {
            "application/vdom.v1+json": {
              "tagName": "pre",
              "attributes": {},
              "children": "    manufacturer               model  displ  year  cyl       trans drv  cty  \\\n0           audi                  a4    1.8  1999    4    auto(l5)   f   18   \n1           audi                  a4    1.8  1999    4  manual(m5)   f   21   \n2           audi                  a4    2.0  2008    4  manual(m6)   f   20   \n3           audi                  a4    2.0  2008    4    auto(av)   f   21   \n4           audi                  a4    2.8  1999    6    auto(l5)   f   16   \n5           audi                  a4    2.8  1999    6  manual(m5)   f   18   \n6           audi                  a4    3.1  2008    6    auto(av)   f   18   \n7           audi          a4 quattro    1.8  1999    4  manual(m5)   4   18   \n8           audi          a4 quattro    1.8  1999    4    auto(l5)   4   16   \n9           audi          a4 quattro    2.0  2008    4  manual(m6)   4   20   \n10          audi          a4 quattro    2.0  2008    4    auto(s6)   4   19   \n11          audi          a4 quattro    2.8  1999    6    auto(l5)   4   15   \n12          audi          a4 quattro    2.8  1999    6  manual(m5)   4   17   \n13          audi          a4 quattro    3.1  2008    6    auto(s6)   4   17   \n14          audi          a4 quattro    3.1  2008    6  manual(m6)   4   15   \n15          audi          a6 quattro    2.8  1999    6    auto(l5)   4   15   \n16          audi          a6 quattro    3.1  2008    6    auto(s6)   4   17   \n17          audi          a6 quattro    4.2  2008    8    auto(s6)   4   16   \n18     chevrolet  c1500 suburban 2wd    5.3  2008    8    auto(l4)   r   14   \n19     chevrolet  c1500 suburban 2wd    5.3  2008    8    auto(l4)   r   11   \n20     chevrolet  c1500 suburban 2wd    5.3  2008    8    auto(l4)   r   14   \n21     chevrolet  c1500 suburban 2wd    5.7  1999    8    auto(l4)   r   13   \n22     chevrolet  c1500 suburban 2wd    6.0  2008    8    auto(l4)   r   12   \n23     chevrolet            corvette    5.7  1999    8  manual(m6)   r   16   \n24     chevrolet            corvette    5.7  1999    8    auto(l4)   r   15   \n25     chevrolet            corvette    6.2  2008    8  manual(m6)   r   16   \n26     chevrolet            corvette    6.2  2008    8    auto(s6)   r   15   \n27     chevrolet            corvette    7.0  2008    8  manual(m6)   r   15   \n28     chevrolet     k1500 tahoe 4wd    5.3  2008    8    auto(l4)   4   14   \n29     chevrolet     k1500 tahoe 4wd    5.3  2008    8    auto(l4)   4   11   \n..           ...                 ...    ...   ...  ...         ...  ..  ...   \n204       toyota   toyota tacoma 4wd    3.4  1999    6    auto(l4)   4   15   \n205       toyota   toyota tacoma 4wd    4.0  2008    6  manual(m6)   4   15   \n206       toyota   toyota tacoma 4wd    4.0  2008    6    auto(l5)   4   16   \n207   volkswagen                 gti    2.0  1999    4  manual(m5)   f   21   \n208   volkswagen                 gti    2.0  1999    4    auto(l4)   f   19   \n209   volkswagen                 gti    2.0  2008    4  manual(m6)   f   21   \n210   volkswagen                 gti    2.0  2008    4    auto(s6)   f   22   \n211   volkswagen                 gti    2.8  1999    6  manual(m5)   f   17   \n212   volkswagen               jetta    1.9  1999    4  manual(m5)   f   33   \n213   volkswagen               jetta    2.0  1999    4  manual(m5)   f   21   \n214   volkswagen               jetta    2.0  1999    4    auto(l4)   f   19   \n215   volkswagen               jetta    2.0  2008    4    auto(s6)   f   22   \n216   volkswagen               jetta    2.0  2008    4  manual(m6)   f   21   \n217   volkswagen               jetta    2.5  2008    5    auto(s6)   f   21   \n218   volkswagen               jetta    2.5  2008    5  manual(m5)   f   21   \n219   volkswagen               jetta    2.8  1999    6    auto(l4)   f   16   \n220   volkswagen               jetta    2.8  1999    6  manual(m5)   f   17   \n221   volkswagen          new beetle    1.9  1999    4  manual(m5)   f   35   \n222   volkswagen          new beetle    1.9  1999    4    auto(l4)   f   29   \n223   volkswagen          new beetle    2.0  1999    4  manual(m5)   f   21   \n224   volkswagen          new beetle    2.0  1999    4    auto(l4)   f   19   \n225   volkswagen          new beetle    2.5  2008    5  manual(m5)   f   20   \n226   volkswagen          new beetle    2.5  2008    5    auto(s6)   f   20   \n227   volkswagen              passat    1.8  1999    4  manual(m5)   f   21   \n228   volkswagen              passat    1.8  1999    4    auto(l5)   f   18   \n229   volkswagen              passat    2.0  2008    4    auto(s6)   f   19   \n230   volkswagen              passat    2.0  2008    4  manual(m6)   f   21   \n231   volkswagen              passat    2.8  1999    6    auto(l5)   f   16   \n232   volkswagen              passat    2.8  1999    6  manual(m5)   f   18   \n233   volkswagen              passat    3.6  2008    6    auto(s6)   f   17   \n\n     hwy fl       class  \n0     29  p     compact  \n1     29  p     compact  \n2     31  p     compact  \n3     30  p     compact  \n4     26  p     compact  \n5     26  p     compact  \n6     27  p     compact  \n7     26  p     compact  \n8     25  p     compact  \n9     28  p     compact  \n10    27  p     compact  \n11    25  p     compact  \n12    25  p     compact  \n13    25  p     compact  \n14    25  p     compact  \n15    24  p     midsize  \n16    25  p     midsize  \n17    23  p     midsize  \n18    20  r         suv  \n19    15  e         suv  \n20    20  r         suv  \n21    17  r         suv  \n22    17  r         suv  \n23    26  p     2seater  \n24    23  p     2seater  \n25    26  p     2seater  \n26    25  p     2seater  \n27    24  p     2seater  \n28    19  r         suv  \n29    14  e         suv  \n..   ... ..         ...  \n204   19  r      pickup  \n205   18  r      pickup  \n206   20  r      pickup  \n207   29  r     compact  \n208   26  r     compact  \n209   29  p     compact  \n210   29  p     compact  \n211   24  r     compact  \n212   44  d     compact  \n213   29  r     compact  \n214   26  r     compact  \n215   29  p     compact  \n216   29  p     compact  \n217   29  r     compact  \n218   29  r     compact  \n219   23  r     compact  \n220   24  r     compact  \n221   44  d  subcompact  \n222   41  d  subcompact  \n223   29  r  subcompact  \n224   26  r  subcompact  \n225   28  r  subcompact  \n226   29  r  subcompact  \n227   29  p     midsize  \n228   29  p     midsize  \n229   28  p     midsize  \n230   29  p     midsize  \n231   26  p     midsize  \n232   26  p     midsize  \n233   26  p     midsize  \n\n[234 rows x 11 columns]"
            },
            "text/plain": [
              "<pre />"
            ]
          },
          "metadata": {}
        }
      ],
      "execution_count": 7,
      "metadata": {
        "collapsed": false,
        "outputHidden": false,
        "inputHidden": false
      }
    },
    {
      "cell_type": "code",
      "source": [],
      "outputs": [],
      "execution_count": null,
      "metadata": {
        "collapsed": false,
        "outputHidden": false,
        "inputHidden": false
      }
    }
  ],
  "metadata": {
    "kernelspec": {
      "name": "python3",
      "language": "python",
      "display_name": "Python 3"
    },
    "kernel_info": {
      "name": "python3"
    },
    "language_info": {
      "name": "python",
      "version": "3.6.2",
      "mimetype": "text/x-python",
      "codemirror_mode": {
        "name": "ipython",
        "version": 3
      },
      "pygments_lexer": "ipython3",
      "nbconvert_exporter": "python",
      "file_extension": ".py"
    },
    "nteract": {
      "version": "0.3.1"
    }
  },
  "nbformat": 4,
  "nbformat_minor": 4
}